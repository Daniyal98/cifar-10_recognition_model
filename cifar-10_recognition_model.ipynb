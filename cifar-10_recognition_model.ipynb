{
 "cells": [
  {
   "cell_type": "code",
   "execution_count": 38,
   "metadata": {},
   "outputs": [],
   "source": [
    "import tensorflow as tf\n",
    "from tensorflow.keras import datasets, layers, models\n",
    "import matplotlib.pyplot as plt\n",
    "from sklearn.metrics import confusion_matrix , classification_report\n",
    "import numpy as np"
   ]
  },
  {
   "cell_type": "code",
   "execution_count": 39,
   "metadata": {},
   "outputs": [
    {
     "data": {
      "text/plain": [
       "(50000, 32, 32, 3)"
      ]
     },
     "execution_count": 39,
     "metadata": {},
     "output_type": "execute_result"
    }
   ],
   "source": [
    "(X_train, y_train), (X_test, y_test) = datasets.cifar10.load_data()\n",
    "X_train.shape"
   ]
  },
  {
   "cell_type": "code",
   "execution_count": 40,
   "metadata": {},
   "outputs": [
    {
     "data": {
      "text/plain": [
       "(32, 32, 3)"
      ]
     },
     "execution_count": 40,
     "metadata": {},
     "output_type": "execute_result"
    }
   ],
   "source": [
    "image = X_train[0]\n",
    "image.shape"
   ]
  },
  {
   "cell_type": "code",
   "execution_count": 41,
   "metadata": {},
   "outputs": [
    {
     "data": {
      "text/plain": [
       "Text(0.5, 1.0, 'truck')"
      ]
     },
     "execution_count": 41,
     "metadata": {},
     "output_type": "execute_result"
    },
    {
     "data": {
      "image/png": "[encoded data removed]",
      "text/plain": [
       "<Figure size 640x480 with 1 Axes>"
      ]
     },
     "metadata": {},
     "output_type": "display_data"
    }
   ],
   "source": [
    "import matplotlib.pyplot as plt\n",
    "# take first image\n",
    "image = data_batch_1['data'][1]\n",
    "# take first image label index\n",
    "label = data_batch_1['labels'][1]\n",
    "# Reshape the image\n",
    "image = image.reshape(3,32,32)\n",
    "# Transpose the image\n",
    "image = image.transpose(1,2,0)\n",
    "# Display the image\n",
    "plt.imshow(image)\n",
    "plt.title(label_name[label])"
   ]
  },
  {
   "cell_type": "code",
   "execution_count": 42,
   "metadata": {},
   "outputs": [
    {
     "name": "stdout",
     "output_type": "stream",
     "text": [
      "number of classes: 10\n",
      "Model: \"sequential_2\"\n",
      "_________________________________________________________________\n",
      " Layer (type)                Output Shape              Param #   \n",
      "=================================================================\n",
      " conv2d_12 (Conv2D)          (None, 32, 32, 32)        896       \n",
      "                                                                 \n",
      " batch_normalization_12 (Bat  (None, 32, 32, 32)       128       \n",
      " chNormalization)                                                \n",
      "                                                                 \n",
      " conv2d_13 (Conv2D)          (None, 32, 32, 32)        9248      \n",
      "                                                                 \n",
      " batch_normalization_13 (Bat  (None, 32, 32, 32)       128       \n",
      " chNormalization)                                                \n",
      "                                                                 \n",
      " max_pooling2d_6 (MaxPooling  (None, 16, 16, 32)       0         \n",
      " 2D)                                                             \n",
      "                                                                 \n",
      " conv2d_14 (Conv2D)          (None, 16, 16, 64)        18496     \n",
      "                                                                 \n",
      " batch_normalization_14 (Bat  (None, 16, 16, 64)       256       \n",
      " chNormalization)                                                \n",
      "                                                                 \n",
      " conv2d_15 (Conv2D)          (None, 16, 16, 64)        36928     \n",
      "                                                                 \n",
      " batch_normalization_15 (Bat  (None, 16, 16, 64)       256       \n",
      " chNormalization)                                                \n",
      "                                                                 \n",
      " max_pooling2d_7 (MaxPooling  (None, 8, 8, 64)         0         \n",
      " 2D)                                                             \n",
      "                                                                 \n",
      " conv2d_16 (Conv2D)          (None, 8, 8, 128)         73856     \n",
      "                                                                 \n",
      " batch_normalization_16 (Bat  (None, 8, 8, 128)        512       \n",
      " chNormalization)                                                \n",
      "                                                                 \n",
      " conv2d_17 (Conv2D)          (None, 8, 8, 128)         147584    \n",
      "                                                                 \n",
      " batch_normalization_17 (Bat  (None, 8, 8, 128)        512       \n",
      " chNormalization)                                                \n",
      "                                                                 \n",
      " max_pooling2d_8 (MaxPooling  (None, 4, 4, 128)        0         \n",
      " 2D)                                                             \n",
      "                                                                 \n",
      " flatten_2 (Flatten)         (None, 2048)              0         \n",
      "                                                                 \n",
      " dropout_4 (Dropout)         (None, 2048)              0         \n",
      "                                                                 \n",
      " dense_3 (Dense)             (None, 1024)              2098176   \n",
      "                                                                 \n",
      " dropout_5 (Dropout)         (None, 1024)              0         \n",
      "                                                                 \n",
      " dense_4 (Dense)             (None, 10)                10250     \n",
      "                                                                 \n",
      "=================================================================\n",
      "Total params: 2,397,226\n",
      "Trainable params: 2,396,330\n",
      "Non-trainable params: 896\n",
      "_________________________________________________________________\n"
     ]
    }
   ],
   "source": [
    "y_train = y_train.reshape(-1,)\n",
    "K = len(set(y_train))\n",
    "\n",
    "# calculate total number of classes\n",
    "# for output layer\n",
    "print(\"number of classes:\", K)\n",
    "# Build the model using the functional API\n",
    "# input layer\n",
    "model = models.Sequential()\n",
    "model.add(layers.Conv2D(32, (3, 3), activation='relu', padding='same', input_shape=(32, 32, 3)))\n",
    "model.add(layers.BatchNormalization())\n",
    "model.add(layers.Conv2D(32, (3, 3), activation='relu', padding='same'))\n",
    "model.add(layers.BatchNormalization())\n",
    "model.add(layers.MaxPooling2D((2, 2)))\n",
    "model.add(layers.Conv2D(64, (3, 3), activation='relu', padding='same'))\n",
    "model.add(layers.BatchNormalization())\n",
    "model.add(layers.Conv2D(64, (3, 3), activation='relu', padding='same'))\n",
    "model.add(layers.BatchNormalization())\n",
    "model.add(layers.MaxPooling2D((2, 2)))\n",
    "model.add(layers.Conv2D(128, (3, 3), activation='relu', padding='same'))\n",
    "model.add(layers.BatchNormalization())\n",
    "model.add(layers.Conv2D(128, (3, 3), activation='relu', padding='same'))\n",
    "model.add(layers.BatchNormalization())\n",
    "model.add(layers.MaxPooling2D((2, 2)))\n",
    "model.add(layers.Flatten())\n",
    "model.add(layers.Dropout(0.2))\n",
    "\n",
    "# Hidden layer\n",
    "model.add(layers.Dense(1024, activation='relu'))\n",
    "model.add(layers.Dropout(0.2))\n",
    "\n",
    "# last hidden layer i.e.. output layer\n",
    "model.add(layers.Dense(K, activation='softmax'))\n",
    "\n",
    "\n",
    "# model description\n",
    "model.summary()"
   ]
  },
  {
   "cell_type": "code",
   "execution_count": 43,
   "metadata": {},
   "outputs": [],
   "source": [
    "model.compile(optimizer='adam',loss = 'sparse_categorical_crossentropy',metrics=['accuracy'])"
   ]
  },
  {
   "cell_type": "code",
   "execution_count": 44,
   "metadata": {},
   "outputs": [
    {
     "name": "stdout",
     "output_type": "stream",
     "text": [
      "Epoch 1/20\n"
     ]
    },
    {
     "name": "stderr",
     "output_type": "stream",
     "text": [
      "2023-04-03 05:24:39.803026: I tensorflow/core/grappler/optimizers/custom_graph_optimizer_registry.cc:114] Plugin optimizer for device_type GPU is enabled.\n"
     ]
    },
    {
     "name": "stdout",
     "output_type": "stream",
     "text": [
      "1563/1563 [==============================] - ETA: 0s - loss: 1.3062 - accuracy: 0.5508"
     ]
    },
    {
     "name": "stderr",
     "output_type": "stream",
     "text": [
      "2023-04-03 05:25:07.248482: I tensorflow/core/grappler/optimizers/custom_graph_optimizer_registry.cc:114] Plugin optimizer for device_type GPU is enabled.\n"
     ]
    },
    {
     "name": "stdout",
     "output_type": "stream",
     "text": [
      "1563/1563 [==============================] - 30s 19ms/step - loss: 1.3062 - accuracy: 0.5508 - val_loss: 0.9784 - val_accuracy: 0.6561\n",
      "Epoch 2/20\n",
      "1563/1563 [==============================] - 29s 19ms/step - loss: 0.8209 - accuracy: 0.7165 - val_loss: 0.7971 - val_accuracy: 0.7303\n",
      "Epoch 3/20\n",
      "1563/1563 [==============================] - 29s 19ms/step - loss: 0.6714 - accuracy: 0.7678 - val_loss: 0.6876 - val_accuracy: 0.7647\n",
      "Epoch 4/20\n",
      "1563/1563 [==============================] - 29s 19ms/step - loss: 0.5671 - accuracy: 0.8069 - val_loss: 0.6476 - val_accuracy: 0.7780\n",
      "Epoch 5/20\n",
      "1563/1563 [==============================] - 29s 19ms/step - loss: 0.4917 - accuracy: 0.8308 - val_loss: 0.6144 - val_accuracy: 0.7996\n",
      "Epoch 6/20\n",
      "1563/1563 [==============================] - 29s 19ms/step - loss: 0.4093 - accuracy: 0.8589 - val_loss: 0.6028 - val_accuracy: 0.8013\n",
      "Epoch 7/20\n",
      "1563/1563 [==============================] - 29s 19ms/step - loss: 0.3504 - accuracy: 0.8790 - val_loss: 0.6520 - val_accuracy: 0.7930\n",
      "Epoch 8/20\n",
      "1563/1563 [==============================] - 29s 19ms/step - loss: 0.2955 - accuracy: 0.8971 - val_loss: 0.6173 - val_accuracy: 0.8166\n",
      "Epoch 9/20\n",
      "1563/1563 [==============================] - 29s 19ms/step - loss: 0.2465 - accuracy: 0.9153 - val_loss: 0.6058 - val_accuracy: 0.8195\n",
      "Epoch 10/20\n",
      "1563/1563 [==============================] - 29s 19ms/step - loss: 0.2188 - accuracy: 0.9243 - val_loss: 0.6328 - val_accuracy: 0.8172\n",
      "Epoch 11/20\n",
      "1563/1563 [==============================] - 29s 19ms/step - loss: 0.1893 - accuracy: 0.9350 - val_loss: 0.6786 - val_accuracy: 0.8158\n",
      "Epoch 12/20\n",
      "1563/1563 [==============================] - 29s 19ms/step - loss: 0.1685 - accuracy: 0.9427 - val_loss: 0.7016 - val_accuracy: 0.8188\n",
      "Epoch 13/20\n",
      "1563/1563 [==============================] - 29s 19ms/step - loss: 0.1534 - accuracy: 0.9476 - val_loss: 0.7377 - val_accuracy: 0.8174\n",
      "Epoch 14/20\n",
      "1563/1563 [==============================] - 29s 19ms/step - loss: 0.1378 - accuracy: 0.9536 - val_loss: 0.6601 - val_accuracy: 0.8300\n",
      "Epoch 15/20\n",
      "1563/1563 [==============================] - 29s 19ms/step - loss: 0.1280 - accuracy: 0.9572 - val_loss: 0.8013 - val_accuracy: 0.8172\n",
      "Epoch 16/20\n",
      "1563/1563 [==============================] - 30s 19ms/step - loss: 0.1201 - accuracy: 0.9597 - val_loss: 0.7685 - val_accuracy: 0.8041\n",
      "Epoch 17/20\n",
      "1563/1563 [==============================] - 29s 19ms/step - loss: 0.1133 - accuracy: 0.9629 - val_loss: 0.7236 - val_accuracy: 0.8233\n",
      "Epoch 18/20\n",
      "1563/1563 [==============================] - 29s 19ms/step - loss: 0.1053 - accuracy: 0.9648 - val_loss: 0.7610 - val_accuracy: 0.8183\n",
      "Epoch 19/20\n",
      "1563/1563 [==============================] - 30s 19ms/step - loss: 0.0979 - accuracy: 0.9679 - val_loss: 0.7492 - val_accuracy: 0.8271\n",
      "Epoch 20/20\n",
      "1563/1563 [==============================] - 29s 19ms/step - loss: 0.0940 - accuracy: 0.9687 - val_loss: 0.7655 - val_accuracy: 0.8298\n"
     ]
    }
   ],
   "source": [
    "history = model.fit(X_train, y_train, epochs=20, validation_data=(X_test, y_test))"
   ]
  },
  {
   "cell_type": "code",
   "execution_count": null,
   "metadata": {},
   "outputs": [],
   "source": []
  }
 ],
 "metadata": {
  "kernelspec": {
   "display_name": "env_tf",
   "language": "python",
   "name": "python3"
  },
  "language_info": {
   "codemirror_mode": {
    "name": "ipython",
    "version": 3
   },
   "file_extension": ".py",
   "mimetype": "text/x-python",
   "name": "python",
   "nbconvert_exporter": "python",
   "pygments_lexer": "ipython3",
   "version": "3.10.9"
  },
  "orig_nbformat": 4
 },
 "nbformat": 4,
 "nbformat_minor": 2
}
